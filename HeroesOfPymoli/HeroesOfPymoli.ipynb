{
 "cells": [
  {
   "cell_type": "markdown",
   "metadata": {},
   "source": [
    "## Observed Trends\n",
    "* At just over 84%, males are overwhelmingly the majority of players in Heroes of Pymoli.\n",
    "* Although males are the majority of the players, females and other/non-disclosed spent almost $0.50 more on average.\n",
    "* Almost half of the player population (44.79%) is ages 22-24."
   ]
  },
  {
   "cell_type": "code",
   "execution_count": 2,
   "metadata": {},
   "outputs": [],
   "source": [
    "# Dependencies and Setup\n",
    "import pandas as pd\n",
    "\n",
    "# File to Load\n",
    "file_to_load = \"Resources/purchase_data.csv\"\n",
    "\n",
    "# Read Purchasing File and store into Pandas data frame\n",
    "purchase_data_df = pd.read_csv(file_to_load)"
   ]
  },
  {
   "cell_type": "markdown",
   "metadata": {},
   "source": [
    "## Player Count"
   ]
  },
  {
   "cell_type": "markdown",
   "metadata": {},
   "source": [
    "* Display the total number of players\n"
   ]
  },
  {
   "cell_type": "code",
   "execution_count": 118,
   "metadata": {
    "scrolled": true
   },
   "outputs": [],
   "source": [
    "# Count the number of unique players in the SN column and create a dataframe to store it\n",
    "total_players = [purchase_data_df['SN'].nunique()]\n",
    "total_players_df = pd.DataFrame(total_players, columns = ['Total Players'])"
   ]
  },
  {
   "cell_type": "code",
   "execution_count": 119,
   "metadata": {},
   "outputs": [
    {
     "data": {
      "text/html": [
       "<div>\n",
       "<style scoped>\n",
       "    .dataframe tbody tr th:only-of-type {\n",
       "        vertical-align: middle;\n",
       "    }\n",
       "\n",
       "    .dataframe tbody tr th {\n",
       "        vertical-align: top;\n",
       "    }\n",
       "\n",
       "    .dataframe thead th {\n",
       "        text-align: right;\n",
       "    }\n",
       "</style>\n",
       "<table border=\"1\" class=\"dataframe\">\n",
       "  <thead>\n",
       "    <tr style=\"text-align: right;\">\n",
       "      <th></th>\n",
       "      <th>Total Players</th>\n",
       "    </tr>\n",
       "  </thead>\n",
       "  <tbody>\n",
       "    <tr>\n",
       "      <th>0</th>\n",
       "      <td>576</td>\n",
       "    </tr>\n",
       "  </tbody>\n",
       "</table>\n",
       "</div>"
      ],
      "text/plain": [
       "   Total Players\n",
       "0            576"
      ]
     },
     "execution_count": 119,
     "metadata": {},
     "output_type": "execute_result"
    }
   ],
   "source": [
    "# Display the total number of players\n",
    "total_players_df"
   ]
  },
  {
   "cell_type": "markdown",
   "metadata": {},
   "source": [
    "## Purchasing Analysis (Total)"
   ]
  },
  {
   "cell_type": "markdown",
   "metadata": {},
   "source": [
    "* Run basic calculations to obtain number of unique items, average price, etc.\n",
    "\n",
    "\n",
    "* Create a summary data frame to hold the results\n",
    "\n",
    "\n",
    "* Optional: give the displayed data cleaner formatting\n",
    "\n",
    "\n",
    "* Display the summary data frame\n"
   ]
  },
  {
   "cell_type": "code",
   "execution_count": 6,
   "metadata": {},
   "outputs": [],
   "source": [
    "# Calculate the Number of Unique Items, Average Price, Number of Purchases, and Total Revenue\n",
    "total_items = purchase_data_df['Item ID'].nunique()\n",
    "avg_price = purchase_data_df['Price'].mean()\n",
    "num_purchases = len(purchase_data_df.index)\n",
    "total_rev = purchase_data_df[\"Price\"].sum()"
   ]
  },
  {
   "cell_type": "code",
   "execution_count": 7,
   "metadata": {
    "scrolled": true
   },
   "outputs": [],
   "source": [
    "# Create a dataframe to store the above\n",
    "purchasing_analysis_df = pd.DataFrame([{'Number of Unique Items': total_items, \n",
    "                                        'Average Price': \"${:.2f}\".format(avg_price), \n",
    "                                        'Number of Purchases':num_purchases,\n",
    "                                       'Total Revenue':\"${:.2f}\".format(total_rev)}])"
   ]
  },
  {
   "cell_type": "code",
   "execution_count": 8,
   "metadata": {},
   "outputs": [
    {
     "data": {
      "text/html": [
       "<div>\n",
       "<style scoped>\n",
       "    .dataframe tbody tr th:only-of-type {\n",
       "        vertical-align: middle;\n",
       "    }\n",
       "\n",
       "    .dataframe tbody tr th {\n",
       "        vertical-align: top;\n",
       "    }\n",
       "\n",
       "    .dataframe thead th {\n",
       "        text-align: right;\n",
       "    }\n",
       "</style>\n",
       "<table border=\"1\" class=\"dataframe\">\n",
       "  <thead>\n",
       "    <tr style=\"text-align: right;\">\n",
       "      <th></th>\n",
       "      <th>Number of Unique Items</th>\n",
       "      <th>Average Price</th>\n",
       "      <th>Number of Purchases</th>\n",
       "      <th>Total Revenue</th>\n",
       "    </tr>\n",
       "  </thead>\n",
       "  <tbody>\n",
       "    <tr>\n",
       "      <th>0</th>\n",
       "      <td>179</td>\n",
       "      <td>$3.05</td>\n",
       "      <td>780</td>\n",
       "      <td>$2379.77</td>\n",
       "    </tr>\n",
       "  </tbody>\n",
       "</table>\n",
       "</div>"
      ],
      "text/plain": [
       "   Number of Unique Items Average Price  Number of Purchases Total Revenue\n",
       "0                     179         $3.05                  780      $2379.77"
      ]
     },
     "execution_count": 8,
     "metadata": {},
     "output_type": "execute_result"
    }
   ],
   "source": [
    "# Display the summary\n",
    "purchasing_analysis_df"
   ]
  },
  {
   "cell_type": "markdown",
   "metadata": {},
   "source": [
    "## Gender Demographics"
   ]
  },
  {
   "cell_type": "markdown",
   "metadata": {},
   "source": [
    "* Percentage and Count of Male Players\n",
    "\n",
    "\n",
    "* Percentage and Count of Female Players\n",
    "\n",
    "\n",
    "* Percentage and Count of Other / Non-Disclosed\n",
    "\n",
    "\n"
   ]
  },
  {
   "cell_type": "code",
   "execution_count": 124,
   "metadata": {
    "scrolled": true
   },
   "outputs": [],
   "source": [
    "# Count the unique number of players for each gender and create a dataframe\n",
    "gender_groupby_df = purchase_data_df.groupby(['Gender'])\n",
    "gender_count = gender_groupby_df['SN'].nunique()\n",
    "gender_count_df = pd.DataFrame.from_dict(dict(gender_count), orient='index', columns=['Total Count'])"
   ]
  },
  {
   "cell_type": "code",
   "execution_count": 123,
   "metadata": {},
   "outputs": [],
   "source": [
    "# Calculate the percentage of players by gender  and create a dataframe\n",
    "gender_percentage = (gender_count/total_players)\n",
    "gender_percentage_df = pd.DataFrame.from_dict(dict(gender_percentage), orient='index', columns=['Percentage of Players'])"
   ]
  },
  {
   "cell_type": "code",
   "execution_count": 122,
   "metadata": {
    "scrolled": true
   },
   "outputs": [
    {
     "data": {
      "text/html": [
       "<style  type=\"text/css\" >\n",
       "</style><table id=\"T_3e6d060c_03a2_11eb_ba68_28f076498d1c\" ><thead>    <tr>        <th class=\"blank level0\" ></th>        <th class=\"col_heading level0 col0\" >Total Count</th>        <th class=\"col_heading level0 col1\" >Percentage of Players</th>    </tr></thead><tbody>\n",
       "                <tr>\n",
       "                        <th id=\"T_3e6d060c_03a2_11eb_ba68_28f076498d1clevel0_row0\" class=\"row_heading level0 row0\" >Male</th>\n",
       "                        <td id=\"T_3e6d060c_03a2_11eb_ba68_28f076498d1crow0_col0\" class=\"data row0 col0\" >484</td>\n",
       "                        <td id=\"T_3e6d060c_03a2_11eb_ba68_28f076498d1crow0_col1\" class=\"data row0 col1\" >84.03%</td>\n",
       "            </tr>\n",
       "            <tr>\n",
       "                        <th id=\"T_3e6d060c_03a2_11eb_ba68_28f076498d1clevel0_row1\" class=\"row_heading level0 row1\" >Female</th>\n",
       "                        <td id=\"T_3e6d060c_03a2_11eb_ba68_28f076498d1crow1_col0\" class=\"data row1 col0\" >81</td>\n",
       "                        <td id=\"T_3e6d060c_03a2_11eb_ba68_28f076498d1crow1_col1\" class=\"data row1 col1\" >14.06%</td>\n",
       "            </tr>\n",
       "            <tr>\n",
       "                        <th id=\"T_3e6d060c_03a2_11eb_ba68_28f076498d1clevel0_row2\" class=\"row_heading level0 row2\" >Other / Non-Disclosed</th>\n",
       "                        <td id=\"T_3e6d060c_03a2_11eb_ba68_28f076498d1crow2_col0\" class=\"data row2 col0\" >11</td>\n",
       "                        <td id=\"T_3e6d060c_03a2_11eb_ba68_28f076498d1crow2_col1\" class=\"data row2 col1\" >1.91%</td>\n",
       "            </tr>\n",
       "    </tbody></table>"
      ],
      "text/plain": [
       "<pandas.io.formats.style.Styler at 0x7fbfb0808550>"
      ]
     },
     "execution_count": 122,
     "metadata": {},
     "output_type": "execute_result"
    }
   ],
   "source": [
    "# Merge the two dataframes and sort by the Total Count column\n",
    "gender_demographics_df = pd.merge(gender_count_df, gender_percentage_df, left_index=True, right_index=True)\n",
    "gender_demographics_sorted_df = gender_demographics_df.sort_values(by=['Total Count'], ascending=False)\n",
    "\n",
    "# Set the format of the Percentage of Players column and displays the dataframe\n",
    "gender_demographics_sorted_df.style.format({'Percentage of Players': '{:.2%}'})"
   ]
  },
  {
   "cell_type": "markdown",
   "metadata": {},
   "source": [
    "\n",
    "## Purchasing Analysis (Gender)"
   ]
  },
  {
   "cell_type": "markdown",
   "metadata": {},
   "source": [
    "* Run basic calculations to obtain purchase count, avg. purchase price, avg. purchase total per person etc. by gender\n",
    "\n",
    "\n",
    "\n",
    "\n",
    "* Create a summary data frame to hold the results\n",
    "\n",
    "\n",
    "* Optional: give the displayed data cleaner formatting\n",
    "\n",
    "\n",
    "* Display the summary data frame"
   ]
  },
  {
   "cell_type": "code",
   "execution_count": 125,
   "metadata": {
    "scrolled": false
   },
   "outputs": [],
   "source": [
    "# Count the total number of purchases for each gender and create a dataframe\n",
    "purchase_count = purchase_data_df['Gender'].value_counts()\n",
    "purchase_count_df = pd.DataFrame.from_dict(dict(purchase_count), orient='index', columns=['Purchase Count'])\n",
    "\n",
    "# Add Gender as the index name and sort by index\n",
    "purchase_count_df.index.name = \"Gender\"\n",
    "purchase_count_df.sort_index(inplace=True)"
   ]
  },
  {
   "cell_type": "code",
   "execution_count": 126,
   "metadata": {},
   "outputs": [],
   "source": [
    "# Calculate the Average Purchase Price by gender and create dataframe\n",
    "avg_purchase_price_df = purchase_data_df.groupby([\"Gender\"])[[\"Price\"]].mean()\n",
    "avg_purchase_price_df.rename(columns={'Gender':'Gender', 'Price': 'Average Purchase Price'}, inplace=True)"
   ]
  },
  {
   "cell_type": "code",
   "execution_count": 127,
   "metadata": {},
   "outputs": [],
   "source": [
    "# Merge the Purchase Count and Average Purchase Price dataframes\n",
    "gender_pur_analysis_pc_app_df = pd.merge(purchase_count_df, avg_purchase_price_df, left_index=True, right_index=True)"
   ]
  },
  {
   "cell_type": "code",
   "execution_count": 128,
   "metadata": {},
   "outputs": [],
   "source": [
    "# Calculate the Total Purchase Value by gender and create dataframe\n",
    "total_purchase_value_df = purchase_data_df.groupby([\"Gender\"])[[\"Price\"]].sum()\n",
    "total_purchase_value_df.rename(columns={'Gender':'Gender', 'Price': 'Total Purchase Value'}, inplace=True)"
   ]
  },
  {
   "cell_type": "code",
   "execution_count": 129,
   "metadata": {},
   "outputs": [],
   "source": [
    "# Merge the Total Purchase Value into the merged dataframes\n",
    "gender_pur_analysis_pc_app_tpv_df = pd.merge(gender_pur_analysis_pc_app_df, total_purchase_value_df, left_index=True, right_index=True)"
   ]
  },
  {
   "cell_type": "code",
   "execution_count": 130,
   "metadata": {},
   "outputs": [],
   "source": [
    "# Calculate the Avg Total Purchase per Person by gender and create dataframe\n",
    "avg_total_pur_per_person = purchase_data_df.groupby([\"SN\", \"Gender\"])[[\"Price\"]].sum().reset_index().groupby(\"Gender\")[\"Price\"].mean()\n",
    "avg_total_pur_per_person_df = pd.DataFrame.from_dict(dict(avg_total_pur_per_person), orient='index', columns=['Avg Total Purchase per Person'])\n",
    "\n",
    "# Add Gender as the index name\n",
    "avg_total_pur_per_person_df.index.name = \"Gender\""
   ]
  },
  {
   "cell_type": "code",
   "execution_count": 131,
   "metadata": {},
   "outputs": [
    {
     "data": {
      "text/html": [
       "<style  type=\"text/css\" >\n",
       "</style><table id=\"T_dd38dc0c_03a2_11eb_ba68_28f076498d1c\" ><thead>    <tr>        <th class=\"blank level0\" ></th>        <th class=\"col_heading level0 col0\" >Purchase Count</th>        <th class=\"col_heading level0 col1\" >Average Purchase Price</th>        <th class=\"col_heading level0 col2\" >Total Purchase Value</th>        <th class=\"col_heading level0 col3\" >Avg Total Purchase per Person</th>    </tr>    <tr>        <th class=\"index_name level0\" >Gender</th>        <th class=\"blank\" ></th>        <th class=\"blank\" ></th>        <th class=\"blank\" ></th>        <th class=\"blank\" ></th>    </tr></thead><tbody>\n",
       "                <tr>\n",
       "                        <th id=\"T_dd38dc0c_03a2_11eb_ba68_28f076498d1clevel0_row0\" class=\"row_heading level0 row0\" >Female</th>\n",
       "                        <td id=\"T_dd38dc0c_03a2_11eb_ba68_28f076498d1crow0_col0\" class=\"data row0 col0\" >113</td>\n",
       "                        <td id=\"T_dd38dc0c_03a2_11eb_ba68_28f076498d1crow0_col1\" class=\"data row0 col1\" >$3.20</td>\n",
       "                        <td id=\"T_dd38dc0c_03a2_11eb_ba68_28f076498d1crow0_col2\" class=\"data row0 col2\" >$361.94</td>\n",
       "                        <td id=\"T_dd38dc0c_03a2_11eb_ba68_28f076498d1crow0_col3\" class=\"data row0 col3\" >$4.47</td>\n",
       "            </tr>\n",
       "            <tr>\n",
       "                        <th id=\"T_dd38dc0c_03a2_11eb_ba68_28f076498d1clevel0_row1\" class=\"row_heading level0 row1\" >Male</th>\n",
       "                        <td id=\"T_dd38dc0c_03a2_11eb_ba68_28f076498d1crow1_col0\" class=\"data row1 col0\" >652</td>\n",
       "                        <td id=\"T_dd38dc0c_03a2_11eb_ba68_28f076498d1crow1_col1\" class=\"data row1 col1\" >$3.02</td>\n",
       "                        <td id=\"T_dd38dc0c_03a2_11eb_ba68_28f076498d1crow1_col2\" class=\"data row1 col2\" >$1,967.64</td>\n",
       "                        <td id=\"T_dd38dc0c_03a2_11eb_ba68_28f076498d1crow1_col3\" class=\"data row1 col3\" >$4.07</td>\n",
       "            </tr>\n",
       "            <tr>\n",
       "                        <th id=\"T_dd38dc0c_03a2_11eb_ba68_28f076498d1clevel0_row2\" class=\"row_heading level0 row2\" >Other / Non-Disclosed</th>\n",
       "                        <td id=\"T_dd38dc0c_03a2_11eb_ba68_28f076498d1crow2_col0\" class=\"data row2 col0\" >15</td>\n",
       "                        <td id=\"T_dd38dc0c_03a2_11eb_ba68_28f076498d1crow2_col1\" class=\"data row2 col1\" >$3.35</td>\n",
       "                        <td id=\"T_dd38dc0c_03a2_11eb_ba68_28f076498d1crow2_col2\" class=\"data row2 col2\" >$50.19</td>\n",
       "                        <td id=\"T_dd38dc0c_03a2_11eb_ba68_28f076498d1crow2_col3\" class=\"data row2 col3\" >$4.56</td>\n",
       "            </tr>\n",
       "    </tbody></table>"
      ],
      "text/plain": [
       "<pandas.io.formats.style.Styler at 0x7fbfb0a03e50>"
      ]
     },
     "execution_count": 131,
     "metadata": {},
     "output_type": "execute_result"
    }
   ],
   "source": [
    "# Merge in the Avg Total Purchase per Person for the final dataframe\n",
    "gender_pur_analysis_final_df = pd.merge(gender_pur_analysis_pc_app_tpv_df, avg_total_pur_per_person_df, left_index=True, right_index=True)\n",
    "\n",
    "# Set the number formats for the columns and display dataframe\n",
    "gender_pur_analysis_final_df.style.format({'Average Purchase Price': '${:,.2f}', 'Total Purchase Value': '${:,.2f}', 'Avg Total Purchase per Person': '${:,.2f}'})"
   ]
  },
  {
   "cell_type": "markdown",
   "metadata": {},
   "source": [
    "## Age Demographics"
   ]
  },
  {
   "cell_type": "markdown",
   "metadata": {},
   "source": [
    "* Establish bins for ages\n",
    "\n",
    "\n",
    "* Categorize the existing players using the age bins. Hint: use pd.cut()\n",
    "\n",
    "\n",
    "* Calculate the numbers and percentages by age group\n",
    "\n",
    "\n",
    "* Create a summary data frame to hold the results\n",
    "\n",
    "\n",
    "* Optional: round the percentage column to two decimal points\n",
    "\n",
    "\n",
    "* Display Age Demographics Table\n"
   ]
  },
  {
   "cell_type": "code",
   "execution_count": 116,
   "metadata": {},
   "outputs": [],
   "source": [
    "# Create bins for ages and create labels \n",
    "age_bins = [0, 9.90, 14.90, 19.90, 24.90, 29.90, 34.90, 39.90, 99999]\n",
    "bin_labels = [\"<10\", \"10-14\", \"15-19\", \"20-24\", \"25-29\", \"30-34\", \"35-39\", \"40+\"]\n",
    "\n",
    "# Create a copy of the dataframe\n",
    "demo_df = purchase_data_df"
   ]
  },
  {
   "cell_type": "code",
   "execution_count": 117,
   "metadata": {},
   "outputs": [],
   "source": [
    "# Splits the data using pd.cut and categorizes the existing players based on the age bins  \n",
    "demo_df[\"Age Bins\"] = pd.cut(demo_df[\"Age\"],age_bins, labels=bin_labels)"
   ]
  },
  {
   "cell_type": "code",
   "execution_count": 112,
   "metadata": {},
   "outputs": [],
   "source": [
    "# Groupby on Age Bins \n",
    "age_binned_df = demo_df.groupby(\"Age Bins\")"
   ]
  },
  {
   "cell_type": "code",
   "execution_count": 113,
   "metadata": {},
   "outputs": [],
   "source": [
    "# Calculate the Total Count and Percentage of Players by age range\n",
    "unique_players = age_binned_df[\"SN\"].nunique()\n",
    "percent_of_players = (unique_players/total_players)"
   ]
  },
  {
   "cell_type": "code",
   "execution_count": 114,
   "metadata": {},
   "outputs": [],
   "source": [
    "# Creates a DataFrame to hold the above results \n",
    "age_demo_df = pd.DataFrame({\"Total Count\":unique_players, \"Percentage of Players\":percent_of_players})"
   ]
  },
  {
   "cell_type": "code",
   "execution_count": 115,
   "metadata": {
    "scrolled": true
   },
   "outputs": [
    {
     "data": {
      "text/html": [
       "<style  type=\"text/css\" >\n",
       "</style><table id=\"T_313d3818_03a1_11eb_ba68_28f076498d1c\" ><thead>    <tr>        <th class=\"blank level0\" ></th>        <th class=\"col_heading level0 col0\" >Total Count</th>        <th class=\"col_heading level0 col1\" >Percentage of Players</th>    </tr></thead><tbody>\n",
       "                <tr>\n",
       "                        <th id=\"T_313d3818_03a1_11eb_ba68_28f076498d1clevel0_row0\" class=\"row_heading level0 row0\" ><10</th>\n",
       "                        <td id=\"T_313d3818_03a1_11eb_ba68_28f076498d1crow0_col0\" class=\"data row0 col0\" >17</td>\n",
       "                        <td id=\"T_313d3818_03a1_11eb_ba68_28f076498d1crow0_col1\" class=\"data row0 col1\" >2.95%</td>\n",
       "            </tr>\n",
       "            <tr>\n",
       "                        <th id=\"T_313d3818_03a1_11eb_ba68_28f076498d1clevel0_row1\" class=\"row_heading level0 row1\" >10-14</th>\n",
       "                        <td id=\"T_313d3818_03a1_11eb_ba68_28f076498d1crow1_col0\" class=\"data row1 col0\" >22</td>\n",
       "                        <td id=\"T_313d3818_03a1_11eb_ba68_28f076498d1crow1_col1\" class=\"data row1 col1\" >3.82%</td>\n",
       "            </tr>\n",
       "            <tr>\n",
       "                        <th id=\"T_313d3818_03a1_11eb_ba68_28f076498d1clevel0_row2\" class=\"row_heading level0 row2\" >15-19</th>\n",
       "                        <td id=\"T_313d3818_03a1_11eb_ba68_28f076498d1crow2_col0\" class=\"data row2 col0\" >107</td>\n",
       "                        <td id=\"T_313d3818_03a1_11eb_ba68_28f076498d1crow2_col1\" class=\"data row2 col1\" >18.58%</td>\n",
       "            </tr>\n",
       "            <tr>\n",
       "                        <th id=\"T_313d3818_03a1_11eb_ba68_28f076498d1clevel0_row3\" class=\"row_heading level0 row3\" >20-24</th>\n",
       "                        <td id=\"T_313d3818_03a1_11eb_ba68_28f076498d1crow3_col0\" class=\"data row3 col0\" >258</td>\n",
       "                        <td id=\"T_313d3818_03a1_11eb_ba68_28f076498d1crow3_col1\" class=\"data row3 col1\" >44.79%</td>\n",
       "            </tr>\n",
       "            <tr>\n",
       "                        <th id=\"T_313d3818_03a1_11eb_ba68_28f076498d1clevel0_row4\" class=\"row_heading level0 row4\" >25-29</th>\n",
       "                        <td id=\"T_313d3818_03a1_11eb_ba68_28f076498d1crow4_col0\" class=\"data row4 col0\" >77</td>\n",
       "                        <td id=\"T_313d3818_03a1_11eb_ba68_28f076498d1crow4_col1\" class=\"data row4 col1\" >13.37%</td>\n",
       "            </tr>\n",
       "            <tr>\n",
       "                        <th id=\"T_313d3818_03a1_11eb_ba68_28f076498d1clevel0_row5\" class=\"row_heading level0 row5\" >30-34</th>\n",
       "                        <td id=\"T_313d3818_03a1_11eb_ba68_28f076498d1crow5_col0\" class=\"data row5 col0\" >52</td>\n",
       "                        <td id=\"T_313d3818_03a1_11eb_ba68_28f076498d1crow5_col1\" class=\"data row5 col1\" >9.03%</td>\n",
       "            </tr>\n",
       "            <tr>\n",
       "                        <th id=\"T_313d3818_03a1_11eb_ba68_28f076498d1clevel0_row6\" class=\"row_heading level0 row6\" >35-39</th>\n",
       "                        <td id=\"T_313d3818_03a1_11eb_ba68_28f076498d1crow6_col0\" class=\"data row6 col0\" >31</td>\n",
       "                        <td id=\"T_313d3818_03a1_11eb_ba68_28f076498d1crow6_col1\" class=\"data row6 col1\" >5.38%</td>\n",
       "            </tr>\n",
       "            <tr>\n",
       "                        <th id=\"T_313d3818_03a1_11eb_ba68_28f076498d1clevel0_row7\" class=\"row_heading level0 row7\" >40+</th>\n",
       "                        <td id=\"T_313d3818_03a1_11eb_ba68_28f076498d1crow7_col0\" class=\"data row7 col0\" >12</td>\n",
       "                        <td id=\"T_313d3818_03a1_11eb_ba68_28f076498d1crow7_col1\" class=\"data row7 col1\" >2.08%</td>\n",
       "            </tr>\n",
       "    </tbody></table>"
      ],
      "text/plain": [
       "<pandas.io.formats.style.Styler at 0x7fbfe0aecbb0>"
      ]
     },
     "execution_count": 115,
     "metadata": {},
     "output_type": "execute_result"
    }
   ],
   "source": [
    "# Delete the index name \n",
    "age_demo_df.index.name = None\n",
    "\n",
    "# Set the format of the Percentage of Players column and display dataframe\n",
    "age_demo_df.style.format({'Percentage of Players': '{:.2%}'})"
   ]
  },
  {
   "cell_type": "markdown",
   "metadata": {},
   "source": [
    "## Purchasing Analysis (Age)"
   ]
  },
  {
   "cell_type": "markdown",
   "metadata": {},
   "source": [
    "* Bin the purchase_data data frame by age\n",
    "\n",
    "\n",
    "* Run basic calculations to obtain purchase count, avg. purchase price, avg. purchase total per person etc. in the table below\n",
    "\n",
    "\n",
    "* Create a summary data frame to hold the results\n",
    "\n",
    "\n",
    "* Optional: give the displayed data cleaner formatting\n",
    "\n",
    "\n",
    "* Display the summary data frame"
   ]
  },
  {
   "cell_type": "code",
   "execution_count": 96,
   "metadata": {},
   "outputs": [],
   "source": [
    "# Count the total number of purchases for each age bin and create a dataframe\n",
    "age_purchase_count = age_binned['Item ID'].count()\n",
    "age_purchase_count_df = pd.DataFrame.from_dict(dict(age_purchase_count), orient='index', columns=['Purchase Count'])"
   ]
  },
  {
   "cell_type": "code",
   "execution_count": 97,
   "metadata": {},
   "outputs": [],
   "source": [
    "# Calculate the Average Purchase Price by age and create dataframe\n",
    "age_avg_purchase_price = age_binned[\"Price\"].mean()\n",
    "age_avg_purchase_price_df = pd.DataFrame.from_dict(dict(age_avg_purchase_price), orient='index', columns=['Average Purchase Price'])"
   ]
  },
  {
   "cell_type": "code",
   "execution_count": 98,
   "metadata": {},
   "outputs": [],
   "source": [
    "# Merge the Purchase Count and Average Purchase Price dataframes\n",
    "age_pur_analysis_pc_app_df = pd.merge(age_purchase_count_df, age_avg_purchase_price_df, left_index=True, right_index=True)"
   ]
  },
  {
   "cell_type": "code",
   "execution_count": 99,
   "metadata": {},
   "outputs": [],
   "source": [
    "# Calculate the Total Purchase Value by age and create dataframe\n",
    "age_total_purchase_value = age_binned[\"Price\"].sum()\n",
    "age_total_purchase_value_df = pd.DataFrame.from_dict(dict(age_total_purchase_value), orient='index', columns=['Total Purchase Value'])"
   ]
  },
  {
   "cell_type": "code",
   "execution_count": 100,
   "metadata": {},
   "outputs": [],
   "source": [
    "# Merge the Total Purchase Value into the merged dataframes\n",
    "age_pur_analysis_pc_app_tpv_df = pd.merge(age_pur_analysis_pc_app_df, age_total_purchase_value_df, left_index=True, right_index=True)"
   ]
  },
  {
   "cell_type": "code",
   "execution_count": 101,
   "metadata": {},
   "outputs": [],
   "source": [
    "# Calculate the Avg Total Purchase per Person by gender and create dataframe\n",
    "age_avg_total_pur_per_person = (age_binned[\"Price\"].sum()/unique_players)\n",
    "age_avg_total_pur_per_person_df = pd.DataFrame.from_dict(dict(age_avg_total_pur_per_person), orient='index', columns=['Avg Total Purchase per Person'])"
   ]
  },
  {
   "cell_type": "code",
   "execution_count": 102,
   "metadata": {},
   "outputs": [],
   "source": [
    "# Merge in the Avg Total Purchase per Person for the final dataframe\n",
    "age_pur_analysis_final_df = pd.merge(age_pur_analysis_pc_app_tpv_df, age_avg_total_pur_per_person_df, left_index=True, right_index=True)"
   ]
  },
  {
   "cell_type": "code",
   "execution_count": 104,
   "metadata": {},
   "outputs": [
    {
     "data": {
      "text/html": [
       "<style  type=\"text/css\" >\n",
       "</style><table id=\"T_6b3d9612_03a0_11eb_ba68_28f076498d1c\" ><thead>    <tr>        <th class=\"blank level0\" ></th>        <th class=\"col_heading level0 col0\" >Purchase Count</th>        <th class=\"col_heading level0 col1\" >Average Purchase Price</th>        <th class=\"col_heading level0 col2\" >Total Purchase Value</th>        <th class=\"col_heading level0 col3\" >Avg Total Purchase per Person</th>    </tr>    <tr>        <th class=\"index_name level0\" >Age Ranges</th>        <th class=\"blank\" ></th>        <th class=\"blank\" ></th>        <th class=\"blank\" ></th>        <th class=\"blank\" ></th>    </tr></thead><tbody>\n",
       "                <tr>\n",
       "                        <th id=\"T_6b3d9612_03a0_11eb_ba68_28f076498d1clevel0_row0\" class=\"row_heading level0 row0\" ><10</th>\n",
       "                        <td id=\"T_6b3d9612_03a0_11eb_ba68_28f076498d1crow0_col0\" class=\"data row0 col0\" >23</td>\n",
       "                        <td id=\"T_6b3d9612_03a0_11eb_ba68_28f076498d1crow0_col1\" class=\"data row0 col1\" >$3.35</td>\n",
       "                        <td id=\"T_6b3d9612_03a0_11eb_ba68_28f076498d1crow0_col2\" class=\"data row0 col2\" >$77.13</td>\n",
       "                        <td id=\"T_6b3d9612_03a0_11eb_ba68_28f076498d1crow0_col3\" class=\"data row0 col3\" >$4.54</td>\n",
       "            </tr>\n",
       "            <tr>\n",
       "                        <th id=\"T_6b3d9612_03a0_11eb_ba68_28f076498d1clevel0_row1\" class=\"row_heading level0 row1\" >10-14</th>\n",
       "                        <td id=\"T_6b3d9612_03a0_11eb_ba68_28f076498d1crow1_col0\" class=\"data row1 col0\" >28</td>\n",
       "                        <td id=\"T_6b3d9612_03a0_11eb_ba68_28f076498d1crow1_col1\" class=\"data row1 col1\" >$2.96</td>\n",
       "                        <td id=\"T_6b3d9612_03a0_11eb_ba68_28f076498d1crow1_col2\" class=\"data row1 col2\" >$82.78</td>\n",
       "                        <td id=\"T_6b3d9612_03a0_11eb_ba68_28f076498d1crow1_col3\" class=\"data row1 col3\" >$3.76</td>\n",
       "            </tr>\n",
       "            <tr>\n",
       "                        <th id=\"T_6b3d9612_03a0_11eb_ba68_28f076498d1clevel0_row2\" class=\"row_heading level0 row2\" >15-19</th>\n",
       "                        <td id=\"T_6b3d9612_03a0_11eb_ba68_28f076498d1crow2_col0\" class=\"data row2 col0\" >136</td>\n",
       "                        <td id=\"T_6b3d9612_03a0_11eb_ba68_28f076498d1crow2_col1\" class=\"data row2 col1\" >$3.04</td>\n",
       "                        <td id=\"T_6b3d9612_03a0_11eb_ba68_28f076498d1crow2_col2\" class=\"data row2 col2\" >$412.89</td>\n",
       "                        <td id=\"T_6b3d9612_03a0_11eb_ba68_28f076498d1crow2_col3\" class=\"data row2 col3\" >$3.86</td>\n",
       "            </tr>\n",
       "            <tr>\n",
       "                        <th id=\"T_6b3d9612_03a0_11eb_ba68_28f076498d1clevel0_row3\" class=\"row_heading level0 row3\" >20-24</th>\n",
       "                        <td id=\"T_6b3d9612_03a0_11eb_ba68_28f076498d1crow3_col0\" class=\"data row3 col0\" >365</td>\n",
       "                        <td id=\"T_6b3d9612_03a0_11eb_ba68_28f076498d1crow3_col1\" class=\"data row3 col1\" >$3.05</td>\n",
       "                        <td id=\"T_6b3d9612_03a0_11eb_ba68_28f076498d1crow3_col2\" class=\"data row3 col2\" >$1,114.06</td>\n",
       "                        <td id=\"T_6b3d9612_03a0_11eb_ba68_28f076498d1crow3_col3\" class=\"data row3 col3\" >$4.32</td>\n",
       "            </tr>\n",
       "            <tr>\n",
       "                        <th id=\"T_6b3d9612_03a0_11eb_ba68_28f076498d1clevel0_row4\" class=\"row_heading level0 row4\" >25-29</th>\n",
       "                        <td id=\"T_6b3d9612_03a0_11eb_ba68_28f076498d1crow4_col0\" class=\"data row4 col0\" >101</td>\n",
       "                        <td id=\"T_6b3d9612_03a0_11eb_ba68_28f076498d1crow4_col1\" class=\"data row4 col1\" >$2.90</td>\n",
       "                        <td id=\"T_6b3d9612_03a0_11eb_ba68_28f076498d1crow4_col2\" class=\"data row4 col2\" >$293.00</td>\n",
       "                        <td id=\"T_6b3d9612_03a0_11eb_ba68_28f076498d1crow4_col3\" class=\"data row4 col3\" >$3.81</td>\n",
       "            </tr>\n",
       "            <tr>\n",
       "                        <th id=\"T_6b3d9612_03a0_11eb_ba68_28f076498d1clevel0_row5\" class=\"row_heading level0 row5\" >30-34</th>\n",
       "                        <td id=\"T_6b3d9612_03a0_11eb_ba68_28f076498d1crow5_col0\" class=\"data row5 col0\" >73</td>\n",
       "                        <td id=\"T_6b3d9612_03a0_11eb_ba68_28f076498d1crow5_col1\" class=\"data row5 col1\" >$2.93</td>\n",
       "                        <td id=\"T_6b3d9612_03a0_11eb_ba68_28f076498d1crow5_col2\" class=\"data row5 col2\" >$214.00</td>\n",
       "                        <td id=\"T_6b3d9612_03a0_11eb_ba68_28f076498d1crow5_col3\" class=\"data row5 col3\" >$4.12</td>\n",
       "            </tr>\n",
       "            <tr>\n",
       "                        <th id=\"T_6b3d9612_03a0_11eb_ba68_28f076498d1clevel0_row6\" class=\"row_heading level0 row6\" >35-39</th>\n",
       "                        <td id=\"T_6b3d9612_03a0_11eb_ba68_28f076498d1crow6_col0\" class=\"data row6 col0\" >41</td>\n",
       "                        <td id=\"T_6b3d9612_03a0_11eb_ba68_28f076498d1crow6_col1\" class=\"data row6 col1\" >$3.60</td>\n",
       "                        <td id=\"T_6b3d9612_03a0_11eb_ba68_28f076498d1crow6_col2\" class=\"data row6 col2\" >$147.67</td>\n",
       "                        <td id=\"T_6b3d9612_03a0_11eb_ba68_28f076498d1crow6_col3\" class=\"data row6 col3\" >$4.76</td>\n",
       "            </tr>\n",
       "            <tr>\n",
       "                        <th id=\"T_6b3d9612_03a0_11eb_ba68_28f076498d1clevel0_row7\" class=\"row_heading level0 row7\" >40+</th>\n",
       "                        <td id=\"T_6b3d9612_03a0_11eb_ba68_28f076498d1crow7_col0\" class=\"data row7 col0\" >13</td>\n",
       "                        <td id=\"T_6b3d9612_03a0_11eb_ba68_28f076498d1crow7_col1\" class=\"data row7 col1\" >$2.94</td>\n",
       "                        <td id=\"T_6b3d9612_03a0_11eb_ba68_28f076498d1crow7_col2\" class=\"data row7 col2\" >$38.24</td>\n",
       "                        <td id=\"T_6b3d9612_03a0_11eb_ba68_28f076498d1crow7_col3\" class=\"data row7 col3\" >$3.19</td>\n",
       "            </tr>\n",
       "    </tbody></table>"
      ],
      "text/plain": [
       "<pandas.io.formats.style.Styler at 0x7fbfb09dbac0>"
      ]
     },
     "execution_count": 104,
     "metadata": {},
     "output_type": "execute_result"
    }
   ],
   "source": [
    "# Add Age Ranges as the index name\n",
    "age_purchase_count_df.index.name = 'Age Ranges'\n",
    "\n",
    "# Set the number formats for the columns\n",
    "age_pur_analysis_final_df.style.format({'Average Purchase Price': '${:,.2f}', 'Total Purchase Value': '${:,.2f}', 'Avg Total Purchase per Person': '${:,.2f}'})"
   ]
  },
  {
   "cell_type": "markdown",
   "metadata": {},
   "source": [
    "## Top Spenders"
   ]
  },
  {
   "cell_type": "markdown",
   "metadata": {},
   "source": [
    "* Run basic calculations to obtain the results in the table below\n",
    "\n",
    "\n",
    "* Create a summary data frame to hold the results\n",
    "\n",
    "\n",
    "* Sort the total purchase value column in descending order\n",
    "\n",
    "\n",
    "* Optional: give the displayed data cleaner formatting\n",
    "\n",
    "\n",
    "* Display a preview of the summary data frame\n",
    "\n"
   ]
  },
  {
   "cell_type": "code",
   "execution_count": 37,
   "metadata": {
    "scrolled": true
   },
   "outputs": [],
   "source": [
    "# Groupby Users\n",
    "user_grouped_df = purchase_data_df.groupby('SN')"
   ]
  },
  {
   "cell_type": "code",
   "execution_count": 95,
   "metadata": {},
   "outputs": [],
   "source": [
    "# Count the purchases per user and create a dataframe\n",
    "ts_purchase_count = user_grouped_df['Item ID'].count()\n",
    "ts_purchase_count_df = pd.DataFrame.from_dict(dict(ts_purchase_count), orient='index', columns=['Purchase Count'])"
   ]
  },
  {
   "cell_type": "code",
   "execution_count": 94,
   "metadata": {
    "scrolled": true
   },
   "outputs": [],
   "source": [
    "# Calculate the average purchase price per user and create a dataframe\n",
    "ts_avg_purchase = user_grouped_df['Price'].mean()\n",
    "ts_avg_purchase_df = pd.DataFrame.from_dict(dict(ts_avg_purchase), orient='index', columns=['Average Purchase Price'])"
   ]
  },
  {
   "cell_type": "code",
   "execution_count": 93,
   "metadata": {},
   "outputs": [],
   "source": [
    "# Merge the Purchase Count and Average Purchase Price per user dataframes\n",
    "ts_pc_app_df = pd.merge(ts_purchase_count_df, ts_avg_purchase_df, left_index=True, right_index=True)"
   ]
  },
  {
   "cell_type": "code",
   "execution_count": 92,
   "metadata": {},
   "outputs": [],
   "source": [
    "# Calculate the total purchase value per user and create a dataframe\n",
    "ts_total_purchase_value = user_grouped_df['Price'].sum()\n",
    "ts_total_purchase_value_df = pd.DataFrame.from_dict(dict(ts_total_purchase_value), orient='index', columns=['Total Purchase Value'])"
   ]
  },
  {
   "cell_type": "code",
   "execution_count": 91,
   "metadata": {},
   "outputs": [],
   "source": [
    "# Merge in the Avg Total Purchase per Person for the final dataframe\n",
    "top_spenders_final_df = pd.merge(ts_pc_app_df, ts_total_purchase_value_df, left_index=True, right_index=True)"
   ]
  },
  {
   "cell_type": "code",
   "execution_count": 90,
   "metadata": {},
   "outputs": [],
   "source": [
    "# Sort the total purchase value column in descending order\n",
    "top_spenders_final_df.sort_values(by='Total Purchase Value', ascending=False, inplace=True)"
   ]
  },
  {
   "cell_type": "code",
   "execution_count": 89,
   "metadata": {},
   "outputs": [
    {
     "data": {
      "text/html": [
       "<style  type=\"text/css\" >\n",
       "</style><table id=\"T_34329f56_039f_11eb_ba68_28f076498d1c\" ><thead>    <tr>        <th class=\"blank level0\" ></th>        <th class=\"col_heading level0 col0\" >Purchase Count</th>        <th class=\"col_heading level0 col1\" >Average Purchase Price</th>        <th class=\"col_heading level0 col2\" >Total Purchase Value</th>    </tr>    <tr>        <th class=\"index_name level0\" >SN</th>        <th class=\"blank\" ></th>        <th class=\"blank\" ></th>        <th class=\"blank\" ></th>    </tr></thead><tbody>\n",
       "                <tr>\n",
       "                        <th id=\"T_34329f56_039f_11eb_ba68_28f076498d1clevel0_row0\" class=\"row_heading level0 row0\" >Lisosia93</th>\n",
       "                        <td id=\"T_34329f56_039f_11eb_ba68_28f076498d1crow0_col0\" class=\"data row0 col0\" >5</td>\n",
       "                        <td id=\"T_34329f56_039f_11eb_ba68_28f076498d1crow0_col1\" class=\"data row0 col1\" >$3.79</td>\n",
       "                        <td id=\"T_34329f56_039f_11eb_ba68_28f076498d1crow0_col2\" class=\"data row0 col2\" >$18.96</td>\n",
       "            </tr>\n",
       "            <tr>\n",
       "                        <th id=\"T_34329f56_039f_11eb_ba68_28f076498d1clevel0_row1\" class=\"row_heading level0 row1\" >Idastidru52</th>\n",
       "                        <td id=\"T_34329f56_039f_11eb_ba68_28f076498d1crow1_col0\" class=\"data row1 col0\" >4</td>\n",
       "                        <td id=\"T_34329f56_039f_11eb_ba68_28f076498d1crow1_col1\" class=\"data row1 col1\" >$3.86</td>\n",
       "                        <td id=\"T_34329f56_039f_11eb_ba68_28f076498d1crow1_col2\" class=\"data row1 col2\" >$15.45</td>\n",
       "            </tr>\n",
       "            <tr>\n",
       "                        <th id=\"T_34329f56_039f_11eb_ba68_28f076498d1clevel0_row2\" class=\"row_heading level0 row2\" >Chamjask73</th>\n",
       "                        <td id=\"T_34329f56_039f_11eb_ba68_28f076498d1crow2_col0\" class=\"data row2 col0\" >3</td>\n",
       "                        <td id=\"T_34329f56_039f_11eb_ba68_28f076498d1crow2_col1\" class=\"data row2 col1\" >$4.61</td>\n",
       "                        <td id=\"T_34329f56_039f_11eb_ba68_28f076498d1crow2_col2\" class=\"data row2 col2\" >$13.83</td>\n",
       "            </tr>\n",
       "            <tr>\n",
       "                        <th id=\"T_34329f56_039f_11eb_ba68_28f076498d1clevel0_row3\" class=\"row_heading level0 row3\" >Iral74</th>\n",
       "                        <td id=\"T_34329f56_039f_11eb_ba68_28f076498d1crow3_col0\" class=\"data row3 col0\" >4</td>\n",
       "                        <td id=\"T_34329f56_039f_11eb_ba68_28f076498d1crow3_col1\" class=\"data row3 col1\" >$3.40</td>\n",
       "                        <td id=\"T_34329f56_039f_11eb_ba68_28f076498d1crow3_col2\" class=\"data row3 col2\" >$13.62</td>\n",
       "            </tr>\n",
       "            <tr>\n",
       "                        <th id=\"T_34329f56_039f_11eb_ba68_28f076498d1clevel0_row4\" class=\"row_heading level0 row4\" >Iskadarya95</th>\n",
       "                        <td id=\"T_34329f56_039f_11eb_ba68_28f076498d1crow4_col0\" class=\"data row4 col0\" >3</td>\n",
       "                        <td id=\"T_34329f56_039f_11eb_ba68_28f076498d1crow4_col1\" class=\"data row4 col1\" >$4.37</td>\n",
       "                        <td id=\"T_34329f56_039f_11eb_ba68_28f076498d1crow4_col2\" class=\"data row4 col2\" >$13.10</td>\n",
       "            </tr>\n",
       "    </tbody></table>"
      ],
      "text/plain": [
       "<pandas.io.formats.style.Styler at 0x7fbfb09c80d0>"
      ]
     },
     "execution_count": 89,
     "metadata": {},
     "output_type": "execute_result"
    }
   ],
   "source": [
    "# Add SN as the index name\n",
    "top_spenders_final_df.index.name = 'SN'\n",
    "\n",
    "# Set the number formats for the columns and display\n",
    "top_spenders_final_df.head().style.format({'Average Purchase Price': '${:,.2f}', 'Total Purchase Value': '${:,.2f}'})"
   ]
  },
  {
   "cell_type": "markdown",
   "metadata": {},
   "source": [
    "## Most Popular Items"
   ]
  },
  {
   "cell_type": "markdown",
   "metadata": {},
   "source": [
    "* Retrieve the Item ID, Item Name, and Item Price columns\n",
    "\n",
    "\n",
    "* Group by Item ID and Item Name. Perform calculations to obtain purchase count, item price, and total purchase value\n",
    "\n",
    "\n",
    "* Create a summary data frame to hold the results\n",
    "\n",
    "\n",
    "* Sort the purchase count column in descending order\n",
    "\n",
    "\n",
    "* Optional: give the displayed data cleaner formatting\n",
    "\n",
    "\n",
    "* Display a preview of the summary data frame\n",
    "\n"
   ]
  },
  {
   "cell_type": "code",
   "execution_count": 82,
   "metadata": {},
   "outputs": [],
   "source": [
    "# Retrieve the Item ID, Item Name, and Item Price columns\n",
    "most_popular_items_df = purchase_data_df.loc[:,['Item ID','Item Name','Price']]"
   ]
  },
  {
   "cell_type": "code",
   "execution_count": 83,
   "metadata": {},
   "outputs": [],
   "source": [
    "# Group by Item ID and Item Name\n",
    "most_popular_items_groupby_df = most_popular_items_df.groupby(['Item ID','Item Name'])"
   ]
  },
  {
   "cell_type": "code",
   "execution_count": 84,
   "metadata": {},
   "outputs": [],
   "source": [
    "# Calculate the purchase count\n",
    "mpi_purchase_count = most_popular_items_groupby_df['Item ID'].count()"
   ]
  },
  {
   "cell_type": "code",
   "execution_count": 85,
   "metadata": {},
   "outputs": [],
   "source": [
    "# Calculate the total purchase value\n",
    "mpi_total_purchase_value = most_popular_items_groupby_df['Price'].sum()"
   ]
  },
  {
   "cell_type": "code",
   "execution_count": 86,
   "metadata": {
    "scrolled": true
   },
   "outputs": [],
   "source": [
    "# Calculate the price from the purchase count and the total purchase value\n",
    "mpi_item_price = mpi_total_purchase_value/mpi_purchase_count"
   ]
  },
  {
   "cell_type": "code",
   "execution_count": 81,
   "metadata": {
    "scrolled": true
   },
   "outputs": [],
   "source": [
    "# Construct dataframe from variables\n",
    "mpi_final_df = pd.DataFrame({'Purchase Count':mpi_purchase_count, 'Item Price':mpi_item_price, 'Total Purchase Value':mpi_total_purchase_value})"
   ]
  },
  {
   "cell_type": "code",
   "execution_count": 80,
   "metadata": {
    "scrolled": true
   },
   "outputs": [],
   "source": [
    "# Sort the total purchase value column in descending order\n",
    "mpi_final_df.sort_values(by='Purchase Count', ascending=False, inplace=True)"
   ]
  },
  {
   "cell_type": "code",
   "execution_count": 76,
   "metadata": {
    "scrolled": true
   },
   "outputs": [
    {
     "data": {
      "text/html": [
       "<style  type=\"text/css\" >\n",
       "</style><table id=\"T_5d7bee98_0396_11eb_ba68_28f076498d1c\" ><thead>    <tr>        <th class=\"blank\" ></th>        <th class=\"blank level0\" ></th>        <th class=\"col_heading level0 col0\" >Purchase Count</th>        <th class=\"col_heading level0 col1\" >Item Price</th>        <th class=\"col_heading level0 col2\" >Total Purchase Value</th>    </tr>    <tr>        <th class=\"index_name level0\" >Item ID</th>        <th class=\"index_name level1\" >Item Name</th>        <th class=\"blank\" ></th>        <th class=\"blank\" ></th>        <th class=\"blank\" ></th>    </tr></thead><tbody>\n",
       "                <tr>\n",
       "                        <th id=\"T_5d7bee98_0396_11eb_ba68_28f076498d1clevel0_row0\" class=\"row_heading level0 row0\" >92</th>\n",
       "                        <th id=\"T_5d7bee98_0396_11eb_ba68_28f076498d1clevel1_row0\" class=\"row_heading level1 row0\" >Final Critic</th>\n",
       "                        <td id=\"T_5d7bee98_0396_11eb_ba68_28f076498d1crow0_col0\" class=\"data row0 col0\" >13</td>\n",
       "                        <td id=\"T_5d7bee98_0396_11eb_ba68_28f076498d1crow0_col1\" class=\"data row0 col1\" >$4.61</td>\n",
       "                        <td id=\"T_5d7bee98_0396_11eb_ba68_28f076498d1crow0_col2\" class=\"data row0 col2\" >$59.99</td>\n",
       "            </tr>\n",
       "            <tr>\n",
       "                        <th id=\"T_5d7bee98_0396_11eb_ba68_28f076498d1clevel0_row1\" class=\"row_heading level0 row1\" >178</th>\n",
       "                        <th id=\"T_5d7bee98_0396_11eb_ba68_28f076498d1clevel1_row1\" class=\"row_heading level1 row1\" >Oathbreaker, Last Hope of the Breaking Storm</th>\n",
       "                        <td id=\"T_5d7bee98_0396_11eb_ba68_28f076498d1crow1_col0\" class=\"data row1 col0\" >12</td>\n",
       "                        <td id=\"T_5d7bee98_0396_11eb_ba68_28f076498d1crow1_col1\" class=\"data row1 col1\" >$4.23</td>\n",
       "                        <td id=\"T_5d7bee98_0396_11eb_ba68_28f076498d1crow1_col2\" class=\"data row1 col2\" >$50.76</td>\n",
       "            </tr>\n",
       "            <tr>\n",
       "                        <th id=\"T_5d7bee98_0396_11eb_ba68_28f076498d1clevel0_row2\" class=\"row_heading level0 row2\" >145</th>\n",
       "                        <th id=\"T_5d7bee98_0396_11eb_ba68_28f076498d1clevel1_row2\" class=\"row_heading level1 row2\" >Fiery Glass Crusader</th>\n",
       "                        <td id=\"T_5d7bee98_0396_11eb_ba68_28f076498d1crow2_col0\" class=\"data row2 col0\" >9</td>\n",
       "                        <td id=\"T_5d7bee98_0396_11eb_ba68_28f076498d1crow2_col1\" class=\"data row2 col1\" >$4.58</td>\n",
       "                        <td id=\"T_5d7bee98_0396_11eb_ba68_28f076498d1crow2_col2\" class=\"data row2 col2\" >$41.22</td>\n",
       "            </tr>\n",
       "            <tr>\n",
       "                        <th id=\"T_5d7bee98_0396_11eb_ba68_28f076498d1clevel0_row3\" class=\"row_heading level0 row3\" >132</th>\n",
       "                        <th id=\"T_5d7bee98_0396_11eb_ba68_28f076498d1clevel1_row3\" class=\"row_heading level1 row3\" >Persuasion</th>\n",
       "                        <td id=\"T_5d7bee98_0396_11eb_ba68_28f076498d1crow3_col0\" class=\"data row3 col0\" >9</td>\n",
       "                        <td id=\"T_5d7bee98_0396_11eb_ba68_28f076498d1crow3_col1\" class=\"data row3 col1\" >$3.22</td>\n",
       "                        <td id=\"T_5d7bee98_0396_11eb_ba68_28f076498d1crow3_col2\" class=\"data row3 col2\" >$28.99</td>\n",
       "            </tr>\n",
       "            <tr>\n",
       "                        <th id=\"T_5d7bee98_0396_11eb_ba68_28f076498d1clevel0_row4\" class=\"row_heading level0 row4\" >108</th>\n",
       "                        <th id=\"T_5d7bee98_0396_11eb_ba68_28f076498d1clevel1_row4\" class=\"row_heading level1 row4\" >Extraction, Quickblade Of Trembling Hands</th>\n",
       "                        <td id=\"T_5d7bee98_0396_11eb_ba68_28f076498d1crow4_col0\" class=\"data row4 col0\" >9</td>\n",
       "                        <td id=\"T_5d7bee98_0396_11eb_ba68_28f076498d1crow4_col1\" class=\"data row4 col1\" >$3.53</td>\n",
       "                        <td id=\"T_5d7bee98_0396_11eb_ba68_28f076498d1crow4_col2\" class=\"data row4 col2\" >$31.77</td>\n",
       "            </tr>\n",
       "    </tbody></table>"
      ],
      "text/plain": [
       "<pandas.io.formats.style.Styler at 0x7fbfb09c4610>"
      ]
     },
     "execution_count": 76,
     "metadata": {},
     "output_type": "execute_result"
    }
   ],
   "source": [
    "# Set the number formats for the columns and display\n",
    "mpi_final_df.head().style.format({'Item Price': '${:,.2f}', 'Total Purchase Value': '${:,.2f}'})"
   ]
  },
  {
   "cell_type": "markdown",
   "metadata": {},
   "source": [
    "## Most Profitable Items"
   ]
  },
  {
   "cell_type": "markdown",
   "metadata": {},
   "source": [
    "* Sort the above table by total purchase value in descending order\n",
    "\n",
    "\n",
    "* Optional: give the displayed data cleaner formatting\n",
    "\n",
    "\n",
    "* Display a preview of the data frame\n",
    "\n"
   ]
  },
  {
   "cell_type": "code",
   "execution_count": 79,
   "metadata": {},
   "outputs": [],
   "source": [
    "# Sort the above table by total purchase value in descending order\n",
    "mpi_final_df.sort_values(by='Total Purchase Value', ascending=False, inplace=True)"
   ]
  },
  {
   "cell_type": "code",
   "execution_count": 78,
   "metadata": {},
   "outputs": [
    {
     "data": {
      "text/html": [
       "<style  type=\"text/css\" >\n",
       "</style><table id=\"T_87918ca6_0396_11eb_ba68_28f076498d1c\" ><thead>    <tr>        <th class=\"blank\" ></th>        <th class=\"blank level0\" ></th>        <th class=\"col_heading level0 col0\" >Purchase Count</th>        <th class=\"col_heading level0 col1\" >Item Price</th>        <th class=\"col_heading level0 col2\" >Total Purchase Value</th>    </tr>    <tr>        <th class=\"index_name level0\" >Item ID</th>        <th class=\"index_name level1\" >Item Name</th>        <th class=\"blank\" ></th>        <th class=\"blank\" ></th>        <th class=\"blank\" ></th>    </tr></thead><tbody>\n",
       "                <tr>\n",
       "                        <th id=\"T_87918ca6_0396_11eb_ba68_28f076498d1clevel0_row0\" class=\"row_heading level0 row0\" >92</th>\n",
       "                        <th id=\"T_87918ca6_0396_11eb_ba68_28f076498d1clevel1_row0\" class=\"row_heading level1 row0\" >Final Critic</th>\n",
       "                        <td id=\"T_87918ca6_0396_11eb_ba68_28f076498d1crow0_col0\" class=\"data row0 col0\" >13</td>\n",
       "                        <td id=\"T_87918ca6_0396_11eb_ba68_28f076498d1crow0_col1\" class=\"data row0 col1\" >$4.61</td>\n",
       "                        <td id=\"T_87918ca6_0396_11eb_ba68_28f076498d1crow0_col2\" class=\"data row0 col2\" >$59.99</td>\n",
       "            </tr>\n",
       "            <tr>\n",
       "                        <th id=\"T_87918ca6_0396_11eb_ba68_28f076498d1clevel0_row1\" class=\"row_heading level0 row1\" >178</th>\n",
       "                        <th id=\"T_87918ca6_0396_11eb_ba68_28f076498d1clevel1_row1\" class=\"row_heading level1 row1\" >Oathbreaker, Last Hope of the Breaking Storm</th>\n",
       "                        <td id=\"T_87918ca6_0396_11eb_ba68_28f076498d1crow1_col0\" class=\"data row1 col0\" >12</td>\n",
       "                        <td id=\"T_87918ca6_0396_11eb_ba68_28f076498d1crow1_col1\" class=\"data row1 col1\" >$4.23</td>\n",
       "                        <td id=\"T_87918ca6_0396_11eb_ba68_28f076498d1crow1_col2\" class=\"data row1 col2\" >$50.76</td>\n",
       "            </tr>\n",
       "            <tr>\n",
       "                        <th id=\"T_87918ca6_0396_11eb_ba68_28f076498d1clevel0_row2\" class=\"row_heading level0 row2\" >82</th>\n",
       "                        <th id=\"T_87918ca6_0396_11eb_ba68_28f076498d1clevel1_row2\" class=\"row_heading level1 row2\" >Nirvana</th>\n",
       "                        <td id=\"T_87918ca6_0396_11eb_ba68_28f076498d1crow2_col0\" class=\"data row2 col0\" >9</td>\n",
       "                        <td id=\"T_87918ca6_0396_11eb_ba68_28f076498d1crow2_col1\" class=\"data row2 col1\" >$4.90</td>\n",
       "                        <td id=\"T_87918ca6_0396_11eb_ba68_28f076498d1crow2_col2\" class=\"data row2 col2\" >$44.10</td>\n",
       "            </tr>\n",
       "            <tr>\n",
       "                        <th id=\"T_87918ca6_0396_11eb_ba68_28f076498d1clevel0_row3\" class=\"row_heading level0 row3\" >145</th>\n",
       "                        <th id=\"T_87918ca6_0396_11eb_ba68_28f076498d1clevel1_row3\" class=\"row_heading level1 row3\" >Fiery Glass Crusader</th>\n",
       "                        <td id=\"T_87918ca6_0396_11eb_ba68_28f076498d1crow3_col0\" class=\"data row3 col0\" >9</td>\n",
       "                        <td id=\"T_87918ca6_0396_11eb_ba68_28f076498d1crow3_col1\" class=\"data row3 col1\" >$4.58</td>\n",
       "                        <td id=\"T_87918ca6_0396_11eb_ba68_28f076498d1crow3_col2\" class=\"data row3 col2\" >$41.22</td>\n",
       "            </tr>\n",
       "            <tr>\n",
       "                        <th id=\"T_87918ca6_0396_11eb_ba68_28f076498d1clevel0_row4\" class=\"row_heading level0 row4\" >103</th>\n",
       "                        <th id=\"T_87918ca6_0396_11eb_ba68_28f076498d1clevel1_row4\" class=\"row_heading level1 row4\" >Singed Scalpel</th>\n",
       "                        <td id=\"T_87918ca6_0396_11eb_ba68_28f076498d1crow4_col0\" class=\"data row4 col0\" >8</td>\n",
       "                        <td id=\"T_87918ca6_0396_11eb_ba68_28f076498d1crow4_col1\" class=\"data row4 col1\" >$4.35</td>\n",
       "                        <td id=\"T_87918ca6_0396_11eb_ba68_28f076498d1crow4_col2\" class=\"data row4 col2\" >$34.80</td>\n",
       "            </tr>\n",
       "    </tbody></table>"
      ],
      "text/plain": [
       "<pandas.io.formats.style.Styler at 0x7fbfb09cc790>"
      ]
     },
     "execution_count": 78,
     "metadata": {},
     "output_type": "execute_result"
    }
   ],
   "source": [
    "# Set the number formats for the columns and display\n",
    "mpi_final_df.head().style.format({'Item Price': '${:,.2f}', 'Total Purchase Value': '${:,.2f}'})"
   ]
  }
 ],
 "metadata": {
  "anaconda-cloud": {},
  "kernel_info": {
   "name": "python3"
  },
  "kernelspec": {
   "display_name": "Python 3",
   "language": "python",
   "name": "python3"
  },
  "language_info": {
   "codemirror_mode": {
    "name": "ipython",
    "version": 3
   },
   "file_extension": ".py",
   "mimetype": "text/x-python",
   "name": "python",
   "nbconvert_exporter": "python",
   "pygments_lexer": "ipython3",
   "version": "3.8.3"
  },
  "latex_envs": {
   "LaTeX_envs_menu_present": true,
   "autoclose": false,
   "autocomplete": true,
   "bibliofile": "biblio.bib",
   "cite_by": "apalike",
   "current_citInitial": 1,
   "eqLabelWithNumbers": true,
   "eqNumInitial": 1,
   "hotkeys": {
    "equation": "Ctrl-E",
    "itemize": "Ctrl-I"
   },
   "labels_anchors": false,
   "latex_user_defs": false,
   "report_style_numbering": false,
   "user_envs_cfg": false
  },
  "nteract": {
   "version": "0.2.0"
  }
 },
 "nbformat": 4,
 "nbformat_minor": 2
}
